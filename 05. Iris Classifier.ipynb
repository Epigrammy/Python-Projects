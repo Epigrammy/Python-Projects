{
 "cells": [
  {
   "cell_type": "markdown",
   "id": "aab48b5a",
   "metadata": {},
   "source": [
    "# PROJECT TITLE: IRIS PROJECT"
   ]
  },
  {
   "cell_type": "code",
   "execution_count": 1,
   "id": "a81879a8",
   "metadata": {},
   "outputs": [],
   "source": [
    "#IMPORTING ALL THE ESSENTIAL LIBRARIES FOR THE PROJECT\n",
    "import numpy as np\n",
    "import matplotlib.pyplot as plt\n",
    "import seaborn as sns\n",
    "import pandas as pd\n",
    "%matplotlib inline"
   ]
  },
  {
   "cell_type": "markdown",
   "id": "d8eec104",
   "metadata": {},
   "source": [
    "Step1: Loading the dataset"
   ]
  },
  {
   "cell_type": "code",
   "execution_count": 5,
   "id": "188783de",
   "metadata": {},
   "outputs": [
    {
     "data": {
      "text/html": [
       "<div>\n",
       "<style scoped>\n",
       "    .dataframe tbody tr th:only-of-type {\n",
       "        vertical-align: middle;\n",
       "    }\n",
       "\n",
       "    .dataframe tbody tr th {\n",
       "        vertical-align: top;\n",
       "    }\n",
       "\n",
       "    .dataframe thead th {\n",
       "        text-align: right;\n",
       "    }\n",
       "</style>\n",
       "<table border=\"1\" class=\"dataframe\">\n",
       "  <thead>\n",
       "    <tr style=\"text-align: right;\">\n",
       "      <th></th>\n",
       "      <th>sepal length</th>\n",
       "      <th>sepal width</th>\n",
       "      <th>petal lenth</th>\n",
       "      <th>petal width</th>\n",
       "      <th>class_labels</th>\n",
       "    </tr>\n",
       "  </thead>\n",
       "  <tbody>\n",
       "    <tr>\n",
       "      <th>0</th>\n",
       "      <td>5.1</td>\n",
       "      <td>3.5</td>\n",
       "      <td>1.4</td>\n",
       "      <td>0.2</td>\n",
       "      <td>Setosa</td>\n",
       "    </tr>\n",
       "    <tr>\n",
       "      <th>1</th>\n",
       "      <td>4.9</td>\n",
       "      <td>3.0</td>\n",
       "      <td>1.4</td>\n",
       "      <td>0.2</td>\n",
       "      <td>Setosa</td>\n",
       "    </tr>\n",
       "    <tr>\n",
       "      <th>2</th>\n",
       "      <td>4.7</td>\n",
       "      <td>3.2</td>\n",
       "      <td>1.3</td>\n",
       "      <td>0.2</td>\n",
       "      <td>Setosa</td>\n",
       "    </tr>\n",
       "    <tr>\n",
       "      <th>3</th>\n",
       "      <td>4.6</td>\n",
       "      <td>3.1</td>\n",
       "      <td>1.5</td>\n",
       "      <td>0.2</td>\n",
       "      <td>Setosa</td>\n",
       "    </tr>\n",
       "    <tr>\n",
       "      <th>4</th>\n",
       "      <td>5.0</td>\n",
       "      <td>3.6</td>\n",
       "      <td>1.4</td>\n",
       "      <td>0.2</td>\n",
       "      <td>Setosa</td>\n",
       "    </tr>\n",
       "  </tbody>\n",
       "</table>\n",
       "</div>"
      ],
      "text/plain": [
       "   sepal length  sepal width  petal lenth  petal width class_labels\n",
       "0           5.1          3.5          1.4          0.2       Setosa\n",
       "1           4.9          3.0          1.4          0.2       Setosa\n",
       "2           4.7          3.2          1.3          0.2       Setosa\n",
       "3           4.6          3.1          1.5          0.2       Setosa\n",
       "4           5.0          3.6          1.4          0.2       Setosa"
      ]
     },
     "execution_count": 5,
     "metadata": {},
     "output_type": "execute_result"
    }
   ],
   "source": [
    "columns=['sepal length','sepal width','petal lenth','petal width','class_labels']\n",
    "#load the data\n",
    "df=pd.read_csv('iris.csv',names=columns)\n",
    "df.head()"
   ]
  },
  {
   "cell_type": "markdown",
   "id": "b6ff2e25",
   "metadata": {},
   "source": [
    "Step2: Separating the input columns and the output\n",
    "columns"
   ]
  },
  {
   "cell_type": "code",
   "execution_count": 6,
   "id": "3712249a",
   "metadata": {},
   "outputs": [],
   "source": [
    "data=df.values\n",
    "X = data[:,0:4]\n",
    "Y = data[:,4]"
   ]
  },
  {
   "cell_type": "markdown",
   "id": "062b4e35",
   "metadata": {},
   "source": [
    "Step3: Splitting the data into training and testing part"
   ]
  },
  {
   "cell_type": "code",
   "execution_count": 7,
   "id": "208dae53",
   "metadata": {},
   "outputs": [],
   "source": [
    "from sklearn.model_selection import train_test_split\n",
    "X_train, X_test, Y_train, Y_test = train_test_split(X,Y,test_size=0.2)"
   ]
  },
  {
   "cell_type": "markdown",
   "id": "6283b3c2",
   "metadata": {},
   "source": [
    "Step4: Using Different Algorithms to train and see the\n",
    "accuracy\n",
    "\n",
    "Algorithm 1: Support vector machine algorithm"
   ]
  },
  {
   "cell_type": "code",
   "execution_count": 8,
   "id": "529278f8",
   "metadata": {},
   "outputs": [
    {
     "name": "stdout",
     "output_type": "stream",
     "text": [
      "93.33333333333333\n"
     ]
    }
   ],
   "source": [
    "from sklearn.svm import SVC\n",
    "model_svc = SVC()\n",
    "model_svc.fit(X_train, Y_train)\n",
    "prediction1= model_svc.predict(X_test)\n",
    "#Calculating the accuracy\n",
    "from sklearn.metrics import accuracy_score\n",
    "print(accuracy_score(Y_test,prediction1)*100)"
   ]
  },
  {
   "cell_type": "markdown",
   "id": "5d9da7f1",
   "metadata": {},
   "source": [
    "Algorithm 2: LOGISTIC REGRESSION"
   ]
  },
  {
   "cell_type": "code",
   "execution_count": 9,
   "id": "f6f48a17",
   "metadata": {},
   "outputs": [
    {
     "name": "stdout",
     "output_type": "stream",
     "text": [
      "90.0\n"
     ]
    }
   ],
   "source": [
    "from sklearn.linear_model import LogisticRegression\n",
    "model_LR=LogisticRegression()\n",
    "model_LR.fit(X_train,Y_train)\n",
    "prediction2 = model_LR.predict(X_test)\n",
    "from sklearn.metrics import accuracy_score\n",
    "print(accuracy_score(Y_test,prediction2)*100)"
   ]
  },
  {
   "cell_type": "markdown",
   "id": "c4a39689",
   "metadata": {},
   "source": [
    "Algorithm 3: Decision Tree Classifier"
   ]
  },
  {
   "cell_type": "code",
   "execution_count": 10,
   "id": "c41cb63f",
   "metadata": {},
   "outputs": [
    {
     "name": "stdout",
     "output_type": "stream",
     "text": [
      "93.33333333333333\n"
     ]
    }
   ],
   "source": [
    "from sklearn.tree import DecisionTreeClassifier\n",
    "model_DTC=DecisionTreeClassifier()\n",
    "model_DTC.fit(X_train,Y_train)\n",
    "prediction3 = model_svc.predict(X_test)\n",
    "from sklearn.metrics import accuracy_score\n",
    "print(accuracy_score(Y_test,prediction3)*100)"
   ]
  },
  {
   "cell_type": "markdown",
   "id": "5473fcdf",
   "metadata": {},
   "source": [
    "Detailed Classification Report"
   ]
  },
  {
   "cell_type": "code",
   "execution_count": 11,
   "id": "5c6e20a5",
   "metadata": {},
   "outputs": [
    {
     "name": "stdout",
     "output_type": "stream",
     "text": [
      "              precision    recall  f1-score   support\n",
      "\n",
      "      Setosa       1.00      1.00      1.00         9\n",
      "  Versicolor       0.86      0.75      0.80         8\n",
      "   Virginica       0.86      0.92      0.89        13\n",
      "\n",
      "    accuracy                           0.90        30\n",
      "   macro avg       0.90      0.89      0.90        30\n",
      "weighted avg       0.90      0.90      0.90        30\n",
      "\n"
     ]
    }
   ],
   "source": [
    "from sklearn.metrics import classification_report\n",
    "print(classification_report(Y_test,prediction2))"
   ]
  },
  {
   "cell_type": "markdown",
   "id": "a1b0c9e8",
   "metadata": {},
   "source": [
    "Here we will enter the dataset and predict species"
   ]
  },
  {
   "cell_type": "code",
   "execution_count": 12,
   "id": "89f92e64",
   "metadata": {},
   "outputs": [
    {
     "name": "stdout",
     "output_type": "stream",
     "text": [
      "Prediction of species: ['Setosa' 'Versicolor' 'Versicolor']\n"
     ]
    }
   ],
   "source": [
    "X_new = np.array([[3,2,1,0.2],[4.9,2.2,3.8,1.1],[5.3,2.5,4.6,1.9]])\n",
    "prediction = model_svc.predict(X_new)\n",
    "print(\"Prediction of species: {}\".format(prediction))"
   ]
  }
 ],
 "metadata": {
  "kernelspec": {
   "display_name": "Python 3 (ipykernel)",
   "language": "python",
   "name": "python3"
  },
  "language_info": {
   "codemirror_mode": {
    "name": "ipython",
    "version": 3
   },
   "file_extension": ".py",
   "mimetype": "text/x-python",
   "name": "python",
   "nbconvert_exporter": "python",
   "pygments_lexer": "ipython3",
   "version": "3.11.5"
  }
 },
 "nbformat": 4,
 "nbformat_minor": 5
}
